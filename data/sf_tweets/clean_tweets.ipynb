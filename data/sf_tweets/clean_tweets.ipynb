{
 "cells": [
  {
   "cell_type": "code",
   "execution_count": 18,
   "metadata": {},
   "outputs": [],
   "source": [
    "import numpy as np\n",
    "import pandas as pd"
   ]
  },
  {
   "cell_type": "code",
   "execution_count": 19,
   "metadata": {},
   "outputs": [
    {
     "name": "stderr",
     "output_type": "stream",
     "text": [
      "/Library/Frameworks/Python.framework/Versions/3.6/lib/python3.6/site-packages/IPython/core/interactiveshell.py:2785: DtypeWarning: Columns (0) have mixed types. Specify dtype option on import or set low_memory=False.\n",
      "  interactivity=interactivity, compiler=compiler, result=result)\n"
     ]
    }
   ],
   "source": [
    "df = pd.read_csv('data.csv')"
   ]
  },
  {
   "cell_type": "code",
   "execution_count": 20,
   "metadata": {},
   "outputs": [],
   "source": [
    "df = df[['text', 'location', 'coords']]"
   ]
  },
  {
   "cell_type": "code",
   "execution_count": 21,
   "metadata": {},
   "outputs": [],
   "source": [
    "df = df[~df['location'].isna()]"
   ]
  },
  {
   "cell_type": "code",
   "execution_count": 22,
   "metadata": {},
   "outputs": [
    {
     "data": {
      "text/html": [
       "<div>\n",
       "<style scoped>\n",
       "    .dataframe tbody tr th:only-of-type {\n",
       "        vertical-align: middle;\n",
       "    }\n",
       "\n",
       "    .dataframe tbody tr th {\n",
       "        vertical-align: top;\n",
       "    }\n",
       "\n",
       "    .dataframe thead th {\n",
       "        text-align: right;\n",
       "    }\n",
       "</style>\n",
       "<table border=\"1\" class=\"dataframe\">\n",
       "  <thead>\n",
       "    <tr style=\"text-align: right;\">\n",
       "      <th></th>\n",
       "      <th>text</th>\n",
       "      <th>location</th>\n",
       "      <th>coords</th>\n",
       "    </tr>\n",
       "  </thead>\n",
       "  <tbody>\n",
       "    <tr>\n",
       "      <th>0</th>\n",
       "      <td>@RealYungYogi Hey there! We would be happy to ...</td>\n",
       "      <td>San Francisco, CA</td>\n",
       "      <td>NaN</td>\n",
       "    </tr>\n",
       "    <tr>\n",
       "      <th>2</th>\n",
       "      <td>RT @Noahpinion: Lockdowns are less important t...</td>\n",
       "      <td>Brooklyn, NY</td>\n",
       "      <td>NaN</td>\n",
       "    </tr>\n",
       "    <tr>\n",
       "      <th>3</th>\n",
       "      <td>RT @alissa_ashleyy: People do things and then ...</td>\n",
       "      <td>On The Run.</td>\n",
       "      <td>NaN</td>\n",
       "    </tr>\n",
       "    <tr>\n",
       "      <th>6</th>\n",
       "      <td>The SI Class of 2005 had dinner tonight togeth...</td>\n",
       "      <td>San Francisco, California, USA</td>\n",
       "      <td>NaN</td>\n",
       "    </tr>\n",
       "    <tr>\n",
       "      <th>7</th>\n",
       "      <td>@abcdefghijkLMAO What a little slice of heaven...</td>\n",
       "      <td>Oakland, CA</td>\n",
       "      <td>NaN</td>\n",
       "    </tr>\n",
       "  </tbody>\n",
       "</table>\n",
       "</div>"
      ],
      "text/plain": [
       "                                                text  \\\n",
       "0  @RealYungYogi Hey there! We would be happy to ...   \n",
       "2  RT @Noahpinion: Lockdowns are less important t...   \n",
       "3  RT @alissa_ashleyy: People do things and then ...   \n",
       "6  The SI Class of 2005 had dinner tonight togeth...   \n",
       "7  @abcdefghijkLMAO What a little slice of heaven...   \n",
       "\n",
       "                         location coords  \n",
       "0               San Francisco, CA    NaN  \n",
       "2                    Brooklyn, NY    NaN  \n",
       "3                     On The Run.    NaN  \n",
       "6  San Francisco, California, USA    NaN  \n",
       "7                     Oakland, CA    NaN  "
      ]
     },
     "execution_count": 22,
     "metadata": {},
     "output_type": "execute_result"
    }
   ],
   "source": [
    "df.head()"
   ]
  },
  {
   "cell_type": "code",
   "execution_count": 23,
   "metadata": {},
   "outputs": [],
   "source": [
    "has_comma = df[df['location'].str.contains(',')]"
   ]
  },
  {
   "cell_type": "code",
   "execution_count": 24,
   "metadata": {},
   "outputs": [
    {
     "data": {
      "text/plain": [
       "407192"
      ]
     },
     "execution_count": 24,
     "metadata": {},
     "output_type": "execute_result"
    }
   ],
   "source": [
    "len(has_comma)"
   ]
  },
  {
   "cell_type": "code",
   "execution_count": 25,
   "metadata": {},
   "outputs": [
    {
     "data": {
      "text/html": [
       "<div>\n",
       "<style scoped>\n",
       "    .dataframe tbody tr th:only-of-type {\n",
       "        vertical-align: middle;\n",
       "    }\n",
       "\n",
       "    .dataframe tbody tr th {\n",
       "        vertical-align: top;\n",
       "    }\n",
       "\n",
       "    .dataframe thead th {\n",
       "        text-align: right;\n",
       "    }\n",
       "</style>\n",
       "<table border=\"1\" class=\"dataframe\">\n",
       "  <thead>\n",
       "    <tr style=\"text-align: right;\">\n",
       "      <th></th>\n",
       "      <th>text</th>\n",
       "      <th>location</th>\n",
       "      <th>coords</th>\n",
       "    </tr>\n",
       "  </thead>\n",
       "  <tbody>\n",
       "    <tr>\n",
       "      <th>0</th>\n",
       "      <td>@RealYungYogi Hey there! We would be happy to ...</td>\n",
       "      <td>San Francisco, CA</td>\n",
       "      <td>NaN</td>\n",
       "    </tr>\n",
       "    <tr>\n",
       "      <th>2</th>\n",
       "      <td>RT @Noahpinion: Lockdowns are less important t...</td>\n",
       "      <td>Brooklyn, NY</td>\n",
       "      <td>NaN</td>\n",
       "    </tr>\n",
       "    <tr>\n",
       "      <th>6</th>\n",
       "      <td>The SI Class of 2005 had dinner tonight togeth...</td>\n",
       "      <td>San Francisco, California, USA</td>\n",
       "      <td>NaN</td>\n",
       "    </tr>\n",
       "    <tr>\n",
       "      <th>7</th>\n",
       "      <td>@abcdefghijkLMAO What a little slice of heaven...</td>\n",
       "      <td>Oakland, CA</td>\n",
       "      <td>NaN</td>\n",
       "    </tr>\n",
       "    <tr>\n",
       "      <th>8</th>\n",
       "      <td>so next time I deal with this nightmare I'm go...</td>\n",
       "      <td>Milpitas, CA</td>\n",
       "      <td>NaN</td>\n",
       "    </tr>\n",
       "  </tbody>\n",
       "</table>\n",
       "</div>"
      ],
      "text/plain": [
       "                                                text  \\\n",
       "0  @RealYungYogi Hey there! We would be happy to ...   \n",
       "2  RT @Noahpinion: Lockdowns are less important t...   \n",
       "6  The SI Class of 2005 had dinner tonight togeth...   \n",
       "7  @abcdefghijkLMAO What a little slice of heaven...   \n",
       "8  so next time I deal with this nightmare I'm go...   \n",
       "\n",
       "                         location coords  \n",
       "0               San Francisco, CA    NaN  \n",
       "2                    Brooklyn, NY    NaN  \n",
       "6  San Francisco, California, USA    NaN  \n",
       "7                     Oakland, CA    NaN  \n",
       "8                    Milpitas, CA    NaN  "
      ]
     },
     "execution_count": 25,
     "metadata": {},
     "output_type": "execute_result"
    }
   ],
   "source": [
    "has_comma.head()"
   ]
  },
  {
   "cell_type": "code",
   "execution_count": 26,
   "metadata": {},
   "outputs": [],
   "source": [
    "coords = df[~df['coords'].isna()]"
   ]
  },
  {
   "cell_type": "code",
   "execution_count": 27,
   "metadata": {},
   "outputs": [
    {
     "data": {
      "text/html": [
       "<div>\n",
       "<style scoped>\n",
       "    .dataframe tbody tr th:only-of-type {\n",
       "        vertical-align: middle;\n",
       "    }\n",
       "\n",
       "    .dataframe tbody tr th {\n",
       "        vertical-align: top;\n",
       "    }\n",
       "\n",
       "    .dataframe thead th {\n",
       "        text-align: right;\n",
       "    }\n",
       "</style>\n",
       "<table border=\"1\" class=\"dataframe\">\n",
       "  <thead>\n",
       "    <tr style=\"text-align: right;\">\n",
       "      <th></th>\n",
       "      <th>text</th>\n",
       "      <th>location</th>\n",
       "      <th>coords</th>\n",
       "    </tr>\n",
       "  </thead>\n",
       "  <tbody>\n",
       "    <tr>\n",
       "      <th>2588</th>\n",
       "      <td>Sun can never set without Pizza. @ Tony &amp;amp; ...</td>\n",
       "      <td>Tony &amp; Alba's Pizza San Jose</td>\n",
       "      <td>{'type': 'Point', 'coordinates': [-121.9515021...</td>\n",
       "    </tr>\n",
       "    <tr>\n",
       "      <th>3187</th>\n",
       "      <td>Slim Sunbleached @ San Francisco, California h...</td>\n",
       "      <td>San Francisco, CA</td>\n",
       "      <td>{'type': 'Point', 'coordinates': [-122.419, 37...</td>\n",
       "    </tr>\n",
       "    <tr>\n",
       "      <th>3350</th>\n",
       "      <td>Wild Thing!\\nNo Truer Spirit than She... \\nNo ...</td>\n",
       "      <td>san francisco</td>\n",
       "      <td>{'type': 'Point', 'coordinates': [-122.419, 37...</td>\n",
       "    </tr>\n",
       "    <tr>\n",
       "      <th>4037</th>\n",
       "      <td>Still loving our badass 10' table from vanpatt...</td>\n",
       "      <td>California, USA</td>\n",
       "      <td>{'type': 'Point', 'coordinates': [-121.7866766...</td>\n",
       "    </tr>\n",
       "    <tr>\n",
       "      <th>4534</th>\n",
       "      <td>Happiest Happy Birthday\\n🎂🎂 @nigaarzkhan 🎂🎂 @ ...</td>\n",
       "      <td>Karachi &amp; Aligarh</td>\n",
       "      <td>{'type': 'Point', 'coordinates': [-122.419, 37...</td>\n",
       "    </tr>\n",
       "  </tbody>\n",
       "</table>\n",
       "</div>"
      ],
      "text/plain": [
       "                                                   text  \\\n",
       "2588  Sun can never set without Pizza. @ Tony &amp; ...   \n",
       "3187  Slim Sunbleached @ San Francisco, California h...   \n",
       "3350  Wild Thing!\\nNo Truer Spirit than She... \\nNo ...   \n",
       "4037  Still loving our badass 10' table from vanpatt...   \n",
       "4534  Happiest Happy Birthday\\n🎂🎂 @nigaarzkhan 🎂🎂 @ ...   \n",
       "\n",
       "                          location  \\\n",
       "2588  Tony & Alba's Pizza San Jose   \n",
       "3187             San Francisco, CA   \n",
       "3350                 san francisco   \n",
       "4037               California, USA   \n",
       "4534             Karachi & Aligarh   \n",
       "\n",
       "                                                 coords  \n",
       "2588  {'type': 'Point', 'coordinates': [-121.9515021...  \n",
       "3187  {'type': 'Point', 'coordinates': [-122.419, 37...  \n",
       "3350  {'type': 'Point', 'coordinates': [-122.419, 37...  \n",
       "4037  {'type': 'Point', 'coordinates': [-121.7866766...  \n",
       "4534  {'type': 'Point', 'coordinates': [-122.419, 37...  "
      ]
     },
     "execution_count": 27,
     "metadata": {},
     "output_type": "execute_result"
    }
   ],
   "source": [
    "coords.head()"
   ]
  },
  {
   "cell_type": "markdown",
   "metadata": {},
   "source": [
    "# Wikipedia\n",
    "To get the cities in the bay area"
   ]
  },
  {
   "cell_type": "code",
   "execution_count": 28,
   "metadata": {},
   "outputs": [],
   "source": [
    "import ssl\n",
    "\n",
    "ssl._create_default_https_context = ssl._create_unverified_context"
   ]
  },
  {
   "cell_type": "code",
   "execution_count": 29,
   "metadata": {},
   "outputs": [],
   "source": [
    "link = \"https://en.wikipedia.org/wiki/List_of_cities_and_towns_in_the_San_Francisco_Bay_Area\"\n",
    "\n",
    "tables = pd.read_html(link)"
   ]
  },
  {
   "cell_type": "code",
   "execution_count": 30,
   "metadata": {},
   "outputs": [],
   "source": [
    "cities = list(tables[1].iloc[2:,0])"
   ]
  },
  {
   "cell_type": "code",
   "execution_count": 31,
   "metadata": {},
   "outputs": [
    {
     "data": {
      "text/plain": [
       "['Alameda', 'Albany', 'American Canyon']"
      ]
     },
     "execution_count": 31,
     "metadata": {},
     "output_type": "execute_result"
    }
   ],
   "source": [
    "cities[:3]"
   ]
  },
  {
   "cell_type": "code",
   "execution_count": 55,
   "metadata": {},
   "outputs": [],
   "source": [
    "counties = pd.DataFrame({'city': cities, 'county': list(tables[1].iloc[2:,2])})"
   ]
  },
  {
   "cell_type": "code",
   "execution_count": 56,
   "metadata": {},
   "outputs": [
    {
     "data": {
      "text/html": [
       "<div>\n",
       "<style scoped>\n",
       "    .dataframe tbody tr th:only-of-type {\n",
       "        vertical-align: middle;\n",
       "    }\n",
       "\n",
       "    .dataframe tbody tr th {\n",
       "        vertical-align: top;\n",
       "    }\n",
       "\n",
       "    .dataframe thead th {\n",
       "        text-align: right;\n",
       "    }\n",
       "</style>\n",
       "<table border=\"1\" class=\"dataframe\">\n",
       "  <thead>\n",
       "    <tr style=\"text-align: right;\">\n",
       "      <th></th>\n",
       "      <th>city</th>\n",
       "      <th>county</th>\n",
       "    </tr>\n",
       "  </thead>\n",
       "  <tbody>\n",
       "    <tr>\n",
       "      <th>0</th>\n",
       "      <td>Alameda</td>\n",
       "      <td>Alameda</td>\n",
       "    </tr>\n",
       "    <tr>\n",
       "      <th>1</th>\n",
       "      <td>Albany</td>\n",
       "      <td>Alameda</td>\n",
       "    </tr>\n",
       "    <tr>\n",
       "      <th>2</th>\n",
       "      <td>American Canyon</td>\n",
       "      <td>Napa</td>\n",
       "    </tr>\n",
       "    <tr>\n",
       "      <th>3</th>\n",
       "      <td>Antioch</td>\n",
       "      <td>Contra Costa</td>\n",
       "    </tr>\n",
       "    <tr>\n",
       "      <th>4</th>\n",
       "      <td>Atherton</td>\n",
       "      <td>San Mateo</td>\n",
       "    </tr>\n",
       "  </tbody>\n",
       "</table>\n",
       "</div>"
      ],
      "text/plain": [
       "              city        county\n",
       "0          Alameda       Alameda\n",
       "1           Albany       Alameda\n",
       "2  American Canyon          Napa\n",
       "3          Antioch  Contra Costa\n",
       "4         Atherton     San Mateo"
      ]
     },
     "execution_count": 56,
     "metadata": {},
     "output_type": "execute_result"
    }
   ],
   "source": [
    "counties.head()"
   ]
  },
  {
   "cell_type": "markdown",
   "metadata": {},
   "source": [
    "# Get Bay Area Cities"
   ]
  },
  {
   "cell_type": "code",
   "execution_count": 36,
   "metadata": {},
   "outputs": [
    {
     "name": "stderr",
     "output_type": "stream",
     "text": [
      "/Library/Frameworks/Python.framework/Versions/3.6/lib/python3.6/site-packages/ipykernel_launcher.py:1: SettingWithCopyWarning: \n",
      "A value is trying to be set on a copy of a slice from a DataFrame.\n",
      "Try using .loc[row_indexer,col_indexer] = value instead\n",
      "\n",
      "See the caveats in the documentation: http://pandas.pydata.org/pandas-docs/stable/indexing.html#indexing-view-versus-copy\n",
      "  \"\"\"Entry point for launching an IPython kernel.\n"
     ]
    }
   ],
   "source": [
    "has_comma['city'] = has_comma['location'].str.split(',').apply(lambda x: x[0])"
   ]
  },
  {
   "cell_type": "code",
   "execution_count": 37,
   "metadata": {},
   "outputs": [],
   "source": [
    "bay_area = has_comma[has_comma['city'].isin(cities)]"
   ]
  },
  {
   "cell_type": "code",
   "execution_count": 43,
   "metadata": {},
   "outputs": [
    {
     "data": {
      "text/plain": [
       "city\n",
       "San Francisco    97243\n",
       "Oakland          39227\n",
       "San Jose         28672\n",
       "Berkeley         10467\n",
       "Sunnyvale         5130\n",
       "dtype: int64"
      ]
     },
     "execution_count": 43,
     "metadata": {},
     "output_type": "execute_result"
    }
   ],
   "source": [
    "bay_area.groupby('city').size().sort_values(ascending=False).head()"
   ]
  },
  {
   "cell_type": "code",
   "execution_count": 58,
   "metadata": {},
   "outputs": [],
   "source": [
    "bay_area = bay_area.merge(counties, how='left', on='city')"
   ]
  },
  {
   "cell_type": "code",
   "execution_count": 59,
   "metadata": {},
   "outputs": [],
   "source": [
    "bay_area.drop_duplicates(inplace=True)"
   ]
  },
  {
   "cell_type": "code",
   "execution_count": 60,
   "metadata": {},
   "outputs": [
    {
     "data": {
      "text/plain": [
       "235444"
      ]
     },
     "execution_count": 60,
     "metadata": {},
     "output_type": "execute_result"
    }
   ],
   "source": [
    "len(bay_area)"
   ]
  },
  {
   "cell_type": "code",
   "execution_count": 61,
   "metadata": {},
   "outputs": [],
   "source": [
    "bay_area.to_csv('bay_area.csv', header=True, index=False)"
   ]
  },
  {
   "cell_type": "code",
   "execution_count": 62,
   "metadata": {},
   "outputs": [
    {
     "data": {
      "text/plain": [
       "city\n",
       "Healdsburg             1\n",
       "Cloverdale             2\n",
       "Calistoga              2\n",
       "Rio Vista              3\n",
       "Cotati                 4\n",
       "Monte Sereno           7\n",
       "Suisun City            7\n",
       "Dixon                  8\n",
       "Sebastopol            12\n",
       "Ross                  12\n",
       "Gilroy                13\n",
       "Rohnert Park          13\n",
       "Morgan Hill           14\n",
       "Vacaville             15\n",
       "Colma                 17\n",
       "Petaluma              22\n",
       "Sonoma                34\n",
       "Windsor               38\n",
       "Santa Rosa            57\n",
       "Napa                  57\n",
       "Hillsborough          59\n",
       "Clayton               65\n",
       "Fairfield             75\n",
       "Piedmont              89\n",
       "Tiburon               93\n",
       "Corte Madera          94\n",
       "Orinda                96\n",
       "Millbrae              96\n",
       "Portola Valley       104\n",
       "Los Altos Hills      106\n",
       "                   ...  \n",
       "Milpitas             774\n",
       "Los Gatos            785\n",
       "Dublin               795\n",
       "Novato               822\n",
       "Union City           902\n",
       "Pittsburg            968\n",
       "Pleasanton           997\n",
       "San Rafael          1002\n",
       "San Bruno           1087\n",
       "Concord             1134\n",
       "Menlo Park          1146\n",
       "Livermore           1210\n",
       "Antioch             1220\n",
       "San Leandro         1311\n",
       "Alameda             1497\n",
       "Walnut Creek        1521\n",
       "Redwood City        1631\n",
       "Cupertino           2060\n",
       "San Mateo           2063\n",
       "Fremont             2064\n",
       "Hayward             3096\n",
       "Vallejo             3107\n",
       "Santa Clara         3121\n",
       "Mountain View       3657\n",
       "Palo Alto           4346\n",
       "Sunnyvale           5121\n",
       "Berkeley           10321\n",
       "San Jose           28210\n",
       "Oakland            38590\n",
       "San Francisco      95301\n",
       "Length: 98, dtype: int64"
      ]
     },
     "execution_count": 62,
     "metadata": {},
     "output_type": "execute_result"
    }
   ],
   "source": [
    "bay_area.groupby('city').size().sort_values()"
   ]
  },
  {
   "cell_type": "code",
   "execution_count": 50,
   "metadata": {},
   "outputs": [
    {
     "data": {
      "text/plain": [
       "235444"
      ]
     },
     "execution_count": 50,
     "metadata": {},
     "output_type": "execute_result"
    }
   ],
   "source": [
    "len(bay_area)"
   ]
  },
  {
   "cell_type": "code",
   "execution_count": null,
   "metadata": {},
   "outputs": [],
   "source": []
  }
 ],
 "metadata": {
  "kernelspec": {
   "display_name": "Python 3",
   "language": "python",
   "name": "python3"
  },
  "language_info": {
   "codemirror_mode": {
    "name": "ipython",
    "version": 3
   },
   "file_extension": ".py",
   "mimetype": "text/x-python",
   "name": "python",
   "nbconvert_exporter": "python",
   "pygments_lexer": "ipython3",
   "version": "3.6.2"
  }
 },
 "nbformat": 4,
 "nbformat_minor": 2
}
