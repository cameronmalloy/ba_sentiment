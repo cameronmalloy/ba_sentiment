{
 "cells": [
  {
   "cell_type": "code",
   "execution_count": 38,
   "metadata": {},
   "outputs": [],
   "source": [
    "import numpy as np\n",
    "import pandas as pd\n",
    "import matplotlib.pyplot as plt\n",
    "import seaborn as sns\n",
    "\n",
    "%matplotlib inline"
   ]
  },
  {
   "cell_type": "code",
   "execution_count": 21,
   "metadata": {},
   "outputs": [],
   "source": [
    "may = pd.read_csv('sentiments_may.csv')\n",
    "june = pd.read_csv('sentiments.csv')"
   ]
  },
  {
   "cell_type": "code",
   "execution_count": 22,
   "metadata": {},
   "outputs": [
    {
     "data": {
      "text/plain": [
       "(235444, 143511)"
      ]
     },
     "execution_count": 22,
     "metadata": {},
     "output_type": "execute_result"
    }
   ],
   "source": [
    "len(may), len(june)"
   ]
  },
  {
   "cell_type": "code",
   "execution_count": 23,
   "metadata": {},
   "outputs": [],
   "source": [
    "oakland_may = may[may['city'] == 'Oakland']\n",
    "oakland_june = june[june['city'] == 'Oakland']"
   ]
  },
  {
   "cell_type": "code",
   "execution_count": 35,
   "metadata": {},
   "outputs": [
    {
     "data": {
      "text/plain": [
       "(38590, 23397)"
      ]
     },
     "execution_count": 35,
     "metadata": {},
     "output_type": "execute_result"
    }
   ],
   "source": [
    "len(oakland_may), len(oakland_june)"
   ]
  },
  {
   "cell_type": "code",
   "execution_count": 28,
   "metadata": {},
   "outputs": [],
   "source": [
    "oakland = pd.concat([oakland_may, oakland_june])"
   ]
  },
  {
   "cell_type": "code",
   "execution_count": 24,
   "metadata": {},
   "outputs": [
    {
     "data": {
      "text/html": [
       "<div>\n",
       "<style scoped>\n",
       "    .dataframe tbody tr th:only-of-type {\n",
       "        vertical-align: middle;\n",
       "    }\n",
       "\n",
       "    .dataframe tbody tr th {\n",
       "        vertical-align: top;\n",
       "    }\n",
       "\n",
       "    .dataframe thead th {\n",
       "        text-align: right;\n",
       "    }\n",
       "</style>\n",
       "<table border=\"1\" class=\"dataframe\">\n",
       "  <thead>\n",
       "    <tr style=\"text-align: right;\">\n",
       "      <th></th>\n",
       "      <th>text</th>\n",
       "      <th>location</th>\n",
       "      <th>coords</th>\n",
       "      <th>city</th>\n",
       "      <th>county</th>\n",
       "      <th>sentiment</th>\n",
       "    </tr>\n",
       "  </thead>\n",
       "  <tbody>\n",
       "    <tr>\n",
       "      <th>2</th>\n",
       "      <td>@abcdefghijkLMAO What a little slice of heaven...</td>\n",
       "      <td>Oakland, CA</td>\n",
       "      <td>NaN</td>\n",
       "      <td>Oakland</td>\n",
       "      <td>Alameda</td>\n",
       "      <td>1</td>\n",
       "    </tr>\n",
       "    <tr>\n",
       "      <th>4</th>\n",
       "      <td>I wasn’t ready for the end of Waco https://t.c...</td>\n",
       "      <td>Oakland, CA</td>\n",
       "      <td>NaN</td>\n",
       "      <td>Oakland</td>\n",
       "      <td>Alameda</td>\n",
       "      <td>1</td>\n",
       "    </tr>\n",
       "    <tr>\n",
       "      <th>7</th>\n",
       "      <td>Damnnn🤣🤣 https://t.co/TZTrGzyYsV</td>\n",
       "      <td>Oakland, CA</td>\n",
       "      <td>NaN</td>\n",
       "      <td>Oakland</td>\n",
       "      <td>Alameda</td>\n",
       "      <td>1</td>\n",
       "    </tr>\n",
       "    <tr>\n",
       "      <th>9</th>\n",
       "      <td>jar is my personal hype man &amp;amp; i love her 🥺...</td>\n",
       "      <td>Oakland, CA</td>\n",
       "      <td>NaN</td>\n",
       "      <td>Oakland</td>\n",
       "      <td>Alameda</td>\n",
       "      <td>1</td>\n",
       "    </tr>\n",
       "    <tr>\n",
       "      <th>13</th>\n",
       "      <td>@itatiVCS I’m crying😂😂😂 https://t.co/WvbrIHw1IB</td>\n",
       "      <td>Oakland, CA</td>\n",
       "      <td>NaN</td>\n",
       "      <td>Oakland</td>\n",
       "      <td>Alameda</td>\n",
       "      <td>1</td>\n",
       "    </tr>\n",
       "  </tbody>\n",
       "</table>\n",
       "</div>"
      ],
      "text/plain": [
       "                                                 text     location coords  \\\n",
       "2   @abcdefghijkLMAO What a little slice of heaven...  Oakland, CA    NaN   \n",
       "4   I wasn’t ready for the end of Waco https://t.c...  Oakland, CA    NaN   \n",
       "7                    Damnnn🤣🤣 https://t.co/TZTrGzyYsV  Oakland, CA    NaN   \n",
       "9   jar is my personal hype man &amp; i love her 🥺...  Oakland, CA    NaN   \n",
       "13    @itatiVCS I’m crying😂😂😂 https://t.co/WvbrIHw1IB  Oakland, CA    NaN   \n",
       "\n",
       "       city   county  sentiment  \n",
       "2   Oakland  Alameda          1  \n",
       "4   Oakland  Alameda          1  \n",
       "7   Oakland  Alameda          1  \n",
       "9   Oakland  Alameda          1  \n",
       "13  Oakland  Alameda          1  "
      ]
     },
     "execution_count": 24,
     "metadata": {},
     "output_type": "execute_result"
    }
   ],
   "source": [
    "oakland_may.head()"
   ]
  },
  {
   "cell_type": "code",
   "execution_count": 27,
   "metadata": {},
   "outputs": [
    {
     "data": {
      "text/plain": [
       "0.078854288854139"
      ]
     },
     "execution_count": 27,
     "metadata": {},
     "output_type": "execute_result"
    }
   ],
   "source": [
    "observed_diff = np.mean(oakland_may['sentiment']) - np.mean(oakland_june['sentiment'])\n",
    "observed_diff"
   ]
  },
  {
   "cell_type": "code",
   "execution_count": 37,
   "metadata": {},
   "outputs": [],
   "source": [
    "np.random.seed(42)\n",
    "\n",
    "stats = []\n",
    "for _ in range(10000):\n",
    "    permuted = np.random.choice(oakland['sentiment'], len(oakland))\n",
    "    may, june = permuted[:len(oakland_may)], permuted[len(oakland_may):]\n",
    "    stats.append(np.mean(may) - np.mean(june))"
   ]
  },
  {
   "cell_type": "code",
   "execution_count": 63,
   "metadata": {},
   "outputs": [
    {
     "data": {
      "image/png": "[encoded data removed]",
      "text/plain": [
       "<Figure size 432x288 with 1 Axes>"
      ]
     },
     "metadata": {},
     "output_type": "display_data"
    }
   ],
   "source": [
    "sns.distplot(stats, bins=np.arange(-.03, .04, .003), hist_kws=dict(edgecolor=\"k\", linewidth=1))\n",
    "plt.axvline(x=observed_diff, color='r')\n",
    "plt.title('Permutation Test - Oakland', size=18)\n",
    "plt.xlabel('Differences in May and June Average Sentiments', size=16)\n",
    "plt.ylabel('Density', size=16)\n",
    "plt.savefig('oakland_permutation_test.jpg');"
   ]
  },
  {
   "cell_type": "code",
   "execution_count": 42,
   "metadata": {},
   "outputs": [
    {
     "data": {
      "text/plain": [
       "0.0"
      ]
     },
     "execution_count": 42,
     "metadata": {},
     "output_type": "execute_result"
    }
   ],
   "source": [
    "sum(stats >= observed_diff) / len(stats)"
   ]
  },
  {
   "cell_type": "code",
   "execution_count": null,
   "metadata": {},
   "outputs": [],
   "source": []
  }
 ],
 "metadata": {
  "kernelspec": {
   "display_name": "Python 3",
   "language": "python",
   "name": "python3"
  },
  "language_info": {
   "codemirror_mode": {
    "name": "ipython",
    "version": 3
   },
   "file_extension": ".py",
   "mimetype": "text/x-python",
   "name": "python",
   "nbconvert_exporter": "python",
   "pygments_lexer": "ipython3",
   "version": "3.6.2"
  }
 },
 "nbformat": 4,
 "nbformat_minor": 2
}
