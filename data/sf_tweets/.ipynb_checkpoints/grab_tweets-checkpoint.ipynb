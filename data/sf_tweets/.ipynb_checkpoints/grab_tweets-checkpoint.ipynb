{
 "cells": [
  {
   "cell_type": "code",
   "execution_count": 2,
   "metadata": {},
   "outputs": [],
   "source": [
    "import numpy as np\n",
    "import pandas as pd\n",
    "\n",
    "import tweepy\n",
    "import os"
   ]
  },
  {
   "cell_type": "code",
   "execution_count": 3,
   "metadata": {},
   "outputs": [],
   "source": [
    "consumer_key = 'lIdHOQxgAA81tfT39CEZr7QUa'\n",
    "consumer_secret = 'ephvbQUnWQVM2UY8XWp6Cwm6jKZq7EXP5AOHskcyBGl9prDU9B'\n",
    "access_token = '115834680-AgBRdWhpDL6pNhYUkQS4rl9bWj6y33gPYsJ5jPuG'\n",
    "access_token_secret = 'MvkRLKaVUar96YbNlycP3tjCzqQN18rdD83yPLZ150iG2'\n",
    "\n",
    "auth = tweepy.OAuthHandler(consumer_key, consumer_secret)\n",
    "auth.set_access_token(access_token, access_token_secret)\n",
    "\n",
    "api = tweepy.API(auth, wait_on_rate_limit = True, wait_on_rate_limit_notify= True)"
   ]
  },
  {
   "cell_type": "code",
   "execution_count": 4,
   "metadata": {},
   "outputs": [],
   "source": [
    "public_tweets = tweepy.Cursor(api.search,\n",
    "                              count=100,\n",
    "                              geocode=\"37.599411,-122.180175,40mi\",\n",
    "                              since=\"2020-05-25\",\n",
    "                              show_user = True,\n",
    "                              lang='en',\n",
    "                              tweet_mode=\"extended\").items()"
   ]
  },
  {
   "cell_type": "code",
   "execution_count": 5,
   "metadata": {},
   "outputs": [],
   "source": [
    "tweets = []"
   ]
  },
  {
   "cell_type": "code",
   "execution_count": 6,
   "metadata": {},
   "outputs": [],
   "source": [
    "# download around 790000 tweets"
   ]
  },
  {
   "cell_type": "code",
   "execution_count": null,
   "metadata": {},
   "outputs": [
    {
     "name": "stdout",
     "output_type": "stream",
     "text": [
      "Downloaded 0 tweets\n"
     ]
    }
   ],
   "source": [
    "num = 0\n",
    "locations = set()\n",
    "for tweet in public_tweets:\n",
    "    if num % 10000 == 0:\n",
    "        print('Downloaded {} tweets'.format(num))\n",
    "    json = tweet._json\n",
    "    tweets.append(json)\n",
    "    num += 1"
   ]
  },
  {
   "cell_type": "code",
   "execution_count": 298,
   "metadata": {},
   "outputs": [],
   "source": [
    "tweets[-1]['coordinates']"
   ]
  },
  {
   "cell_type": "code",
   "execution_count": 299,
   "metadata": {},
   "outputs": [
    {
     "data": {
      "text/plain": [
       "{'created_at': 'Sun May 03 02:04:11 +0000 2020',\n",
       " 'id': 1256766472166096896,\n",
       " 'id_str': '1256766472166096896',\n",
       " 'full_text': '@RealYungYogi Hey there! We would be happy to check into that issue for you. Send us a DM with your account email and we will get it figured out!',\n",
       " 'truncated': False,\n",
       " 'display_text_range': [14, 145],\n",
       " 'entities': {'hashtags': [],\n",
       "  'symbols': [],\n",
       "  'user_mentions': [{'screen_name': 'RealYungYogi',\n",
       "    'name': 'RIP DIEGO I LOVE U LIL BRO',\n",
       "    'id': 271693616,\n",
       "    'id_str': '271693616',\n",
       "    'indices': [0, 13]}],\n",
       "  'urls': []},\n",
       " 'metadata': {'iso_language_code': 'en', 'result_type': 'recent'},\n",
       " 'source': '<a href=\"https://www.sprinklr.com\" rel=\"nofollow\">Sprinklr</a>',\n",
       " 'in_reply_to_status_id': 1256765448181493762,\n",
       " 'in_reply_to_status_id_str': '1256765448181493762',\n",
       " 'in_reply_to_user_id': 271693616,\n",
       " 'in_reply_to_user_id_str': '271693616',\n",
       " 'in_reply_to_screen_name': 'RealYungYogi',\n",
       " 'user': {'id': 3220580358,\n",
       "  'id_str': '3220580358',\n",
       "  'name': 'Postmates Support',\n",
       "  'screen_name': 'Postmates_Help',\n",
       "  'location': 'San Francisco, CA',\n",
       "  'description': 'Official customer support for @postmates',\n",
       "  'url': 'http://t.co/UB2AM8bxN1',\n",
       "  'entities': {'url': {'urls': [{'url': 'http://t.co/UB2AM8bxN1',\n",
       "      'expanded_url': 'http://postmates.com/help',\n",
       "      'display_url': 'postmates.com/help',\n",
       "      'indices': [0, 22]}]},\n",
       "   'description': {'urls': []}},\n",
       "  'protected': False,\n",
       "  'followers_count': 24015,\n",
       "  'friends_count': 1190,\n",
       "  'listed_count': 52,\n",
       "  'created_at': 'Tue May 19 18:47:14 +0000 2015',\n",
       "  'favourites_count': 2274,\n",
       "  'utc_offset': None,\n",
       "  'time_zone': None,\n",
       "  'geo_enabled': False,\n",
       "  'verified': True,\n",
       "  'statuses_count': 113950,\n",
       "  'lang': None,\n",
       "  'contributors_enabled': False,\n",
       "  'is_translator': False,\n",
       "  'is_translation_enabled': False,\n",
       "  'profile_background_color': 'C0DEED',\n",
       "  'profile_background_image_url': 'http://abs.twimg.com/images/themes/theme1/bg.png',\n",
       "  'profile_background_image_url_https': 'https://abs.twimg.com/images/themes/theme1/bg.png',\n",
       "  'profile_background_tile': False,\n",
       "  'profile_image_url': 'http://pbs.twimg.com/profile_images/1019351070064115713/tdO7rIYI_normal.jpg',\n",
       "  'profile_image_url_https': 'https://pbs.twimg.com/profile_images/1019351070064115713/tdO7rIYI_normal.jpg',\n",
       "  'profile_banner_url': 'https://pbs.twimg.com/profile_banners/3220580358/1432071977',\n",
       "  'profile_link_color': '1DA1F2',\n",
       "  'profile_sidebar_border_color': 'C0DEED',\n",
       "  'profile_sidebar_fill_color': 'DDEEF6',\n",
       "  'profile_text_color': '333333',\n",
       "  'profile_use_background_image': True,\n",
       "  'has_extended_profile': False,\n",
       "  'default_profile': True,\n",
       "  'default_profile_image': False,\n",
       "  'following': False,\n",
       "  'follow_request_sent': False,\n",
       "  'notifications': False,\n",
       "  'translator_type': 'none'},\n",
       " 'geo': None,\n",
       " 'coordinates': None,\n",
       " 'place': None,\n",
       " 'contributors': None,\n",
       " 'is_quote_status': False,\n",
       " 'retweet_count': 0,\n",
       " 'favorite_count': 0,\n",
       " 'favorited': False,\n",
       " 'retweeted': False,\n",
       " 'lang': 'en'}"
      ]
     },
     "execution_count": 299,
     "metadata": {},
     "output_type": "execute_result"
    }
   ],
   "source": [
    "tweets[0]"
   ]
  },
  {
   "cell_type": "code",
   "execution_count": 302,
   "metadata": {},
   "outputs": [],
   "source": [
    "text = list(map(lambda x: x['full_text'], tweets))\n",
    "location = list(map(lambda x: x['user']['location'], tweets))\n",
    "coords = list(map(lambda x: x['coordinates'], tweets))"
   ]
  },
  {
   "cell_type": "code",
   "execution_count": 303,
   "metadata": {},
   "outputs": [],
   "source": [
    "df = pd.DataFrame({'text': text, 'location': location, 'coords': coords})"
   ]
  },
  {
   "cell_type": "code",
   "execution_count": 304,
   "metadata": {},
   "outputs": [],
   "source": [
    "df.to_csv('data.csv')"
   ]
  },
  {
   "cell_type": "code",
   "execution_count": null,
   "metadata": {},
   "outputs": [],
   "source": []
  }
 ],
 "metadata": {
  "kernelspec": {
   "display_name": "Python 3",
   "language": "python",
   "name": "python3"
  },
  "language_info": {
   "codemirror_mode": {
    "name": "ipython",
    "version": 3
   },
   "file_extension": ".py",
   "mimetype": "text/x-python",
   "name": "python",
   "nbconvert_exporter": "python",
   "pygments_lexer": "ipython3",
   "version": "3.6.2"
  }
 },
 "nbformat": 4,
 "nbformat_minor": 2
}
